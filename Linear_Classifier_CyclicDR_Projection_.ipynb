{
 "cells": [
  {
   "cell_type": "code",
   "execution_count": 1,
   "metadata": {},
   "outputs": [],
   "source": [
    "import numpy as np\n",
    "import pandas as pd\n",
    "import seaborn as sns\n",
    "import random\n",
    "import matplotlib.pyplot as plt\n",
    "import sklearn.datasets\n",
    "import time\n",
    "from numpy import (array, dot, arccos, clip)\n",
    "from numpy.linalg import norm\n",
    "from sklearn import datasets\n",
    "from sklearn.datasets import (make_classification, make_blobs, make_gaussian_quantiles)\n",
    "# from sklearn.datasets import make_blobs\n",
    "# from sklearn.datasets import make_gaussian_quantiles\n",
    "from sklearn.metrics import accuracy_score\n",
    "from multiprocessing import Process\n",
    "from math import pi\n",
    "from sklearn.model_selection import train_test_split"
   ]
  },
  {
   "cell_type": "code",
   "execution_count": 55,
   "metadata": {},
   "outputs": [],
   "source": [
    "np.random.seed(66)#Set seed\n",
    "\n",
    "#Generating random data sets\n",
    "X, y = make_classification(n_samples=5000, n_features=100, n_informative=2, n_redundant=0, \n",
    "                                            n_repeated=0, n_classes=2, n_clusters_per_class=2, weights=None, \n",
    "                                            flip_y=0.01, class_sep=10, hypercube=True, shift=0.0, scale=1.0, \n",
    "                                            shuffle=True, random_state=None)\n",
    "\n",
    "X_train, X_test, y_train, y_test = train_test_split(X, y, test_size = 0.2)"
   ]
  },
  {
   "cell_type": "code",
   "execution_count": 56,
   "metadata": {},
   "outputs": [],
   "source": [
    "#Assigning the training data to variables\n",
    "\n",
    "data = X_train\n",
    "target = y_train\n",
    "rows, columns = data.shape"
   ]
  },
  {
   "cell_type": "code",
   "execution_count": 57,
   "metadata": {},
   "outputs": [],
   "source": [
    "#defining a function for the projections onto each of the ith sets\n",
    "def altProj(x, i):\n",
    "    separation_vector = x + (min(0, target[i] - data[i, :] @ x))*(data[i] / (norm(data[i])**2))\n",
    "    #separation_vector = x + (min(0, target[i] - beta[i] - data[i, :] @ x))*(data[i] / (norm(data[i])**2))\n",
    "    return separation_vector"
   ]
  },
  {
   "cell_type": "code",
   "execution_count": 58,
   "metadata": {},
   "outputs": [],
   "source": [
    "#The Cyclic DR Projection Algoritm\n",
    "\n",
    "duration = []\n",
    "for t in range(10):\n",
    "    start_time = time.time()\n",
    "    tol = 1e-4                              #tolerance level. \n",
    "    residual = 5\n",
    "\n",
    "    iterate = 0                             #initialization\n",
    "    iterate_counter = []                    #initialization\n",
    "    norm_counter = []                       #initialization\n",
    "    x_start = np.ones(columns)\n",
    "    norm_counter.append(norm(x_start))\n",
    "    iterate_counter.append(0)\n",
    "   \n",
    "    while residual > tol:\n",
    "        for row in range(rows):\n",
    "            Id = x_start\n",
    "            y_1 = altProj(x_start, row)                #projection onto each rows\n",
    "            R_y_1 = 2*y_1 - x_start\n",
    "            y_2 = altProj(R_y_1, (row+1)%rows)         #Wrapping around the rows\n",
    "        \n",
    "            R_y_2 = 2*y_2 - R_y_1\n",
    "            R1_by_R2 = 0.5*(Id + R_y_2)\n",
    "            x_start = R1_by_R2\n",
    "        iterate += 1\n",
    "        iterate_counter.append(iterate)\n",
    "        norm_counter.append(norm(x_start))\n",
    "        residual = abs(norm_counter[-1] - norm_counter[-2])\n",
    "\n",
    "    p = (time.time() - start_time)\n",
    "    duration.append(round(p, 4))"
   ]
  },
  {
   "cell_type": "code",
   "execution_count": 59,
   "metadata": {},
   "outputs": [],
   "source": [
    "average_duration = np.mean(duration)\n",
    "maximum_duration = np.max(duration)\n",
    "minimum_duration = np.min(duration)"
   ]
  },
  {
   "cell_type": "code",
   "execution_count": 60,
   "metadata": {},
   "outputs": [],
   "source": [
    "#Converting classified arrays to binary arrays\n",
    "\n",
    "predict_array = data@x_start\n",
    "def array_to_binary(array):\n",
    "    count_one = 0\n",
    "    count_zero = 0\n",
    "    binary_array = []\n",
    "\n",
    "    for elements in array:\n",
    "        if elements >= 0:\n",
    "            output = 1\n",
    "            binary_array.append(output)\n",
    "            count_one += 1\n",
    "        else:\n",
    "            output = 0\n",
    "            binary_array.append(output)\n",
    "            count_zero +=1\n",
    "    \n",
    "    return binary_array\n",
    "predicted_class = array_to_binary(predict_array)\n"
   ]
  },
  {
   "cell_type": "code",
   "execution_count": 61,
   "metadata": {},
   "outputs": [
    {
     "name": "stdout",
     "output_type": "stream",
     "text": [
      "The Percentage Accuracy is 0.98375\n"
     ]
    }
   ],
   "source": [
    "#######TRAINING\n",
    "##Performance measure of the algorithm\n",
    "\n",
    "def projection_accuracy(target, prediction):\n",
    "    right = 0\n",
    "    for object in range(len(target)):\n",
    "        if target[object] == prediction[object]:\n",
    "            right += 1\n",
    "    classification_accuracy = right / float(len(target))\n",
    "    return classification_accuracy\n",
    "\n",
    "classification_accuracy = projection_accuracy(target, predicted_class)\n",
    "#print(\"The Percentage Accuracy is {}%\".format(classification_accuracy))\n",
    "print(\"The Percentage Accuracy is {}\".format(classification_accuracy))"
   ]
  },
  {
   "cell_type": "code",
   "execution_count": 62,
   "metadata": {},
   "outputs": [
    {
     "name": "stdout",
     "output_type": "stream",
     "text": [
      "The Percentage Test Accuracy is: 0.9800\n"
     ]
    }
   ],
   "source": [
    "#######TEST\n",
    "##Performance measure of the algorithm\n",
    "\n",
    "predict_array_test = X_test@x_start\n",
    "\n",
    "predicted_class_test = array_to_binary(predict_array_test)\n",
    "\n",
    "def projection_accuracy(y_test, predicted_class_test):\n",
    "    right = 0\n",
    "    for object in range(len(y_test)):\n",
    "        if y_test[object] == predicted_class_test[object]:\n",
    "            right += 1\n",
    "    classification_accuracy = right / float(len(y_test))\n",
    "    return classification_accuracy\n",
    "classification_accuracy_test = projection_accuracy(y_test, predicted_class_test)\n",
    "#print(\"The Percentage Test Accuracy is: {:.4f}%\".format(classification_accuracy))\n",
    "print(\"The Percentage Test Accuracy is: {:.4f}\".format(classification_accuracy_test))"
   ]
  },
  {
   "cell_type": "code",
   "execution_count": 63,
   "metadata": {},
   "outputs": [
    {
     "name": "stdout",
     "output_type": "stream",
     "text": [
      "Convergence after 25 iterations\n",
      "Duration to Convergence:\n",
      "[3.7935, 3.7474, 3.7338, 3.7746, 3.6492, 3.7479, 3.7778, 3.69, 3.7343, 3.716]\n",
      "The Average Duration to Convergence 3.73645 seconds\n",
      "The Minimum Duration to Convergence 3.6492 seconds\n",
      "The Maximum Duration to Convergence 3.7935 seconds\n",
      "The Training Accuracy is 0.98375\n",
      "The Test Accuracy is: 0.9800\n"
     ]
    }
   ],
   "source": [
    "print('Convergence after {} iterations'.format(iterate))\n",
    "print('Duration to Convergence:')\n",
    "print(\"[{0}]\".format(', '.join(map(str, duration))))\n",
    "print('The Average Duration to Convergence {} seconds'.format(average_duration))\n",
    "print('The Minimum Duration to Convergence {} seconds'.format(minimum_duration))\n",
    "print('The Maximum Duration to Convergence {} seconds'.format(maximum_duration))\n",
    "print(\"The Training Accuracy is {}\".format(classification_accuracy))\n",
    "print(\"The Test Accuracy is: {:.4f}\".format(classification_accuracy_test))"
   ]
  },
  {
   "cell_type": "code",
   "execution_count": 65,
   "metadata": {},
   "outputs": [
    {
     "data": {
      "image/png": "[encoded data removed]",
      "text/plain": [
       "<Figure size 432x288 with 1 Axes>"
      ]
     },
     "metadata": {
      "needs_background": "light"
     },
     "output_type": "display_data"
    }
   ],
   "source": [
    "##Convergence Plot\n",
    "\n",
    "f = plt.figure()\n",
    "plt.title(\"Convergence Rate: CyclicDR Projection for Separable\\n Data Set at Starting Point of np.ones\")\n",
    "plt.plot(iterate_counter, norm_counter, c = \"maroon\")\n",
    "plt.xlabel(\"Number of Iterations\")\n",
    "plt.ylabel(\"Norm\")\n",
    "plt.show()\n",
    "\n",
    "f.savefig(\"Fig8.png\", bbox_inches='tight')"
   ]
  }
 ],
 "metadata": {
  "kernelspec": {
   "display_name": "Python 3",
   "language": "python",
   "name": "python3"
  },
  "language_info": {
   "codemirror_mode": {
    "name": "ipython",
    "version": 3
   },
   "file_extension": ".py",
   "mimetype": "text/x-python",
   "name": "python",
   "nbconvert_exporter": "python",
   "pygments_lexer": "ipython3",
   "version": "3.7.3"
  }
 },
 "nbformat": 4,
 "nbformat_minor": 4
}
