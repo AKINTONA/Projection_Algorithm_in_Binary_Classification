{
 "cells": [
  {
   "cell_type": "code",
   "execution_count": 115,
   "metadata": {},
   "outputs": [],
   "source": [
    "import numpy as np\n",
    "import pandas as pd\n",
    "import seaborn as sns\n",
    "import random\n",
    "import matplotlib.pyplot as plt\n",
    "import sklearn.datasets\n",
    "import time\n",
    "from numpy import (array, dot, arccos, clip)\n",
    "from numpy.linalg import norm\n",
    "from sklearn import datasets\n",
    "from sklearn.datasets import (make_classification, make_blobs, make_gaussian_quantiles)\n",
    "# from sklearn.datasets import make_blobs\n",
    "# from sklearn.datasets import make_gaussian_quantiles\n",
    "from sklearn.metrics import accuracy_score\n",
    "from multiprocessing import Process\n",
    "from math import pi\n",
    "from sklearn.model_selection import train_test_split\n",
    "from sklearn.linear_model import LogisticRegression\n",
    "from sklearn.ensemble import RandomForestClassifier\n",
    "from sklearn.svm import LinearSVC\n",
    "from sklearn.metrics import confusion_matrix"
   ]
  },
  {
   "cell_type": "code",
   "execution_count": 116,
   "metadata": {},
   "outputs": [],
   "source": [
    "# iris = datasets.load_iris()\n",
    "# idx = iris.target != 2\n",
    "# data = iris.data[idx].astype(np.float32)\n",
    "# target = iris.target[idx].astype(np.float32)\n",
    "\n",
    "# X_train, X_test, y_train, y_test = train_test_split(data, target, \n",
    "#                                 test_size = 0.2)"
   ]
  },
  {
   "cell_type": "code",
   "execution_count": 142,
   "metadata": {},
   "outputs": [],
   "source": [
    "np.random.seed(66)\n",
    "X, y = make_classification(n_samples=5000, n_features=10, n_informative=2, n_redundant=0, \n",
    "                                            n_repeated=0, n_classes=2, n_clusters_per_class=2, weights=None, \n",
    "                                            flip_y=0.01, class_sep=10, hypercube=True, shift=0.0, scale=1.0, \n",
    "                                            shuffle=True, random_state=None)\n",
    "\n",
    "X_train, X_test, y_train, y_test = train_test_split(X, y, test_size = 0.2)"
   ]
  },
  {
   "cell_type": "code",
   "execution_count": 143,
   "metadata": {},
   "outputs": [
    {
     "name": "stdout",
     "output_type": "stream",
     "text": [
      "Convergence after 4000 iterations\n",
      "Duration to Convergence: 0.32116270065307617 seconds\n"
     ]
    }
   ],
   "source": [
    "data = X_train\n",
    "target = y_train\n",
    "rows, columns = data.shape\n",
    "\n",
    "#defining a function for the projections unto the ith sets\n",
    "def altProj(x, i):\n",
    "    separation_vector = x + (min(0, target[i] - data[i, :] @ x))*(data[i] / (norm(data[i])**2))\n",
    "    #separation_vector = x + (min(0, target[i] - beta[i] - data[i, :] @ x))*(data[i] / (norm(data[i])**2))\n",
    "    return separation_vector\n",
    "\n",
    "#The cyclic projection algorithm\n",
    "start_time = time.time()\n",
    "tol = 1e-10\n",
    "iterate = 0\n",
    "iterate_counter = []\n",
    "norm_counter = []\n",
    "residual = 5\n",
    "\n",
    "beta = np.ones(len(target))\n",
    "x_start = np.ones(columns)\n",
    "norm_counter.append(norm(x_start))\n",
    "iterate_counter.append(0)\n",
    "#for iterate in range(100):\n",
    "while residual > tol:\n",
    "    for rows in range(rows):\n",
    "        y = altProj(x_start, rows)\n",
    "        x_start = y\n",
    "        #print(y)\n",
    "        iterate += 1\n",
    "        iterate_counter.append(iterate)\n",
    "        #print(iterate)\n",
    "        norm_counter.append(norm(x_start))\n",
    "        residual = abs(norm_counter[-1] - norm_counter[-2])\n",
    "#         if residual < tol:\n",
    "#             break\n",
    "\n",
    "# lastavg = None\n",
    "# while True:\n",
    "#     # your code\n",
    "#     avg = statistics.mean(FinalLengths)\n",
    "#     if lastavg is not None and math.isclose(avg, lastavg):\n",
    "#         break\n",
    "#     lastavg = avg\n",
    "\n",
    "print('Convergence after {} iterations'.format(iterate))\n",
    "print('Duration to Convergence: {} seconds'.format(time.time() - start_time))\n"
   ]
  },
  {
   "cell_type": "code",
   "execution_count": 144,
   "metadata": {},
   "outputs": [],
   "source": [
    "#Converting classified arrays to binary arrays\n",
    "\n",
    "predict_array = data@x_start\n",
    "\n",
    "def array_to_binary(array):\n",
    "    count_one = 0\n",
    "    count_zero = 0\n",
    "    binary_array = []\n",
    "\n",
    "    for elements in array:\n",
    "        if elements >= 0:\n",
    "            output = 1\n",
    "            binary_array.append(output)\n",
    "            count_one += 1\n",
    "        else:\n",
    "            output = 0\n",
    "            binary_array.append(output)\n",
    "            count_zero +=1\n",
    "    \n",
    "    return binary_array\n",
    "\n",
    "predicted_class = array_to_binary(predict_array)"
   ]
  },
  {
   "cell_type": "code",
   "execution_count": 145,
   "metadata": {},
   "outputs": [
    {
     "name": "stdout",
     "output_type": "stream",
     "text": [
      "The Percentage Training Accuracy is 0.9835\n"
     ]
    }
   ],
   "source": [
    "#######TRAINING\n",
    "##Performance measure of the algorithm\n",
    "def projection_accuracy(target, prediction):\n",
    "    right = 0\n",
    "    for object in range(len(target)):\n",
    "        if target[object] == prediction[object]:\n",
    "            right += 1\n",
    "    classification_accuracy = right / float(len(target))\n",
    "    return classification_accuracy\n",
    "\n",
    "classification_accuracy = projection_accuracy(target, predicted_class)\n",
    "print(\"The Percentage Training Accuracy is {}\".format(classification_accuracy))"
   ]
  },
  {
   "cell_type": "code",
   "execution_count": 146,
   "metadata": {},
   "outputs": [
    {
     "name": "stdout",
     "output_type": "stream",
     "text": [
      "The Percentage Test Accuracy is: 99.2000%\n"
     ]
    }
   ],
   "source": [
    "#######TEST\n",
    "##Performance measure of the algorithm\n",
    "\n",
    "predict_array_test = X_test@x_start\n",
    "\n",
    "predicted_class_test = array_to_binary(predict_array_test)\n",
    "\n",
    "def projection_accuracy(y_test, predicted_class_test):\n",
    "    right = 0\n",
    "    for object in range(len(y_test)):\n",
    "        if y_test[object] == predicted_class_test[object]:\n",
    "            right += 1\n",
    "    classification_accuracy = right / float(len(y_test)) * 100\n",
    "    return classification_accuracy\n",
    "classification_accuracy = projection_accuracy(y_test, predicted_class_test)\n",
    "print(\"The Percentage Test Accuracy is: {:.4f}%\".format(classification_accuracy))"
   ]
  },
  {
   "cell_type": "code",
   "execution_count": 147,
   "metadata": {},
   "outputs": [
    {
     "name": "stdout",
     "output_type": "stream",
     "text": [
      "The Percentage SVM Training Accuracy is 0.992\n",
      "The Percentage SVM Test Accuracy is 0.995\n"
     ]
    },
    {
     "name": "stderr",
     "output_type": "stream",
     "text": [
      "/opt/conda/lib/python3.7/site-packages/sklearn/svm/base.py:929: ConvergenceWarning: Liblinear failed to converge, increase the number of iterations.\n",
      "  \"the number of iterations.\", ConvergenceWarning)\n"
     ]
    }
   ],
   "source": [
    "svc = LinearSVC(C = 1.0)\n",
    "svc.fit(X_train, y_train)\n",
    "trn = svc.score(X_train, y_train)\n",
    "tst = svc.score(X_test, y_test)\n",
    "\n",
    "print(\"The Percentage SVM Training Accuracy is {}\".format(trn))\n",
    "print(\"The Percentage SVM Test Accuracy is {}\".format(tst))"
   ]
  },
  {
   "cell_type": "code",
   "execution_count": 135,
   "metadata": {},
   "outputs": [
    {
     "data": {
      "image/png": "[encoded data removed]",
      "text/plain": [
       "<Figure size 432x288 with 1 Axes>"
      ]
     },
     "metadata": {
      "needs_background": "light"
     },
     "output_type": "display_data"
    }
   ],
   "source": [
    "##Convergence Plot\n",
    "\n",
    "plt.figure()\n",
    "plt.title(\"Convergence Rate: Cyclic Projection\")\n",
    "plt.plot(iterate_counter, norm_counter, c = \"maroon\")\n",
    "plt.xlabel(\"Number of Iterations\")\n",
    "plt.ylabel(\"Norm\")\n",
    "plt.show()"
   ]
  },
  {
   "cell_type": "code",
   "execution_count": 8,
   "metadata": {},
   "outputs": [
    {
     "name": "stdout",
     "output_type": "stream",
     "text": [
      "T0 1\n",
      "P***\n",
      "0| 3189 591\n",
      "1| 837 3383\n"
     ]
    }
   ],
   "source": [
    "# calculate a confusion matrix\n",
    "def confusionMatrix(target, predicted_class):\n",
    "    cases = set(target)\n",
    "    matrix = [list() for x in range(len(cases))]\n",
    "    for i in range(len(cases)):\n",
    "        matrix[i] = [0 for x in range(len(cases))]\n",
    "    lookup = dict()\n",
    "    for i, value in enumerate(cases):\n",
    "        lookup[value] = i\n",
    "    for i in range(len(target)):\n",
    "        x = lookup[target[i]]\n",
    "        y = lookup[predicted_class[i]]\n",
    "        matrix[y][x] += 1\n",
    "    return cases, matrix\n",
    "\n",
    "\n",
    "def print_confusionMatrix(target, predicted_class):\n",
    "    print(\"T\" + \" \".join(str(x) for x in cases))\n",
    "    print(\"P***\")\n",
    "    for i, x in enumerate(cases):\n",
    "        print(\"%s| %s\" % (x, ' '.join(str(x) for x in matrix[i])))\n",
    "    \n",
    "\n",
    " \n",
    "cases, matrix = confusionMatrix(target, predicted_class)\n",
    "print_confusionMatrix(cases, matrix)"
   ]
  },
  {
   "cell_type": "code",
   "execution_count": 9,
   "metadata": {},
   "outputs": [],
   "source": [
    "##Notations of Traditional Classifiers\n",
    "\n",
    "lr = LogisticRegression()\n",
    "rfc = RandomForestClassifier(n_estimators = 100)\n",
    "svc = LinearSVC(C = 1.0)"
   ]
  },
  {
   "cell_type": "code",
   "execution_count": 10,
   "metadata": {},
   "outputs": [
    {
     "name": "stderr",
     "output_type": "stream",
     "text": [
      "/opt/conda/lib/python3.7/site-packages/sklearn/linear_model/logistic.py:432: FutureWarning: Default solver will be changed to 'lbfgs' in 0.22. Specify a solver to silence this warning.\n",
      "  FutureWarning)\n"
     ]
    },
    {
     "data": {
      "text/plain": [
       "LogisticRegression(C=1.0, class_weight=None, dual=False, fit_intercept=True,\n",
       "                   intercept_scaling=1, l1_ratio=None, max_iter=100,\n",
       "                   multi_class='warn', n_jobs=None, penalty='l2',\n",
       "                   random_state=None, solver='warn', tol=0.0001, verbose=0,\n",
       "                   warm_start=False)"
      ]
     },
     "execution_count": 10,
     "metadata": {},
     "output_type": "execute_result"
    }
   ],
   "source": [
    "lr.fit(X_train, y_train)"
   ]
  },
  {
   "cell_type": "code",
   "execution_count": 11,
   "metadata": {},
   "outputs": [
    {
     "data": {
      "text/plain": [
       "0.89375"
      ]
     },
     "execution_count": 11,
     "metadata": {},
     "output_type": "execute_result"
    }
   ],
   "source": [
    "lr.score(X_train, y_train)"
   ]
  },
  {
   "cell_type": "code",
   "execution_count": 12,
   "metadata": {},
   "outputs": [
    {
     "data": {
      "text/plain": [
       "0.8995"
      ]
     },
     "execution_count": 12,
     "metadata": {},
     "output_type": "execute_result"
    }
   ],
   "source": [
    "lr.score(X_test, y_test)"
   ]
  },
  {
   "cell_type": "code",
   "execution_count": 13,
   "metadata": {},
   "outputs": [
    {
     "data": {
      "text/plain": [
       "array([[864, 114],\n",
       "       [ 87, 935]])"
      ]
     },
     "execution_count": 13,
     "metadata": {},
     "output_type": "execute_result"
    }
   ],
   "source": [
    "y_pred = lr.predict(X_test)\n",
    "cm = confusion_matrix(y_test, y_pred)\n",
    "cm"
   ]
  },
  {
   "cell_type": "code",
   "execution_count": 14,
   "metadata": {},
   "outputs": [
    {
     "data": {
      "text/plain": [
       "RandomForestClassifier(bootstrap=True, class_weight=None, criterion='gini',\n",
       "                       max_depth=None, max_features='auto', max_leaf_nodes=None,\n",
       "                       min_impurity_decrease=0.0, min_impurity_split=None,\n",
       "                       min_samples_leaf=1, min_samples_split=2,\n",
       "                       min_weight_fraction_leaf=0.0, n_estimators=100,\n",
       "                       n_jobs=None, oob_score=False, random_state=None,\n",
       "                       verbose=0, warm_start=False)"
      ]
     },
     "execution_count": 14,
     "metadata": {},
     "output_type": "execute_result"
    }
   ],
   "source": [
    "rfc.fit(X_train, y_train)"
   ]
  },
  {
   "cell_type": "code",
   "execution_count": 15,
   "metadata": {},
   "outputs": [
    {
     "data": {
      "text/plain": [
       "1.0"
      ]
     },
     "execution_count": 15,
     "metadata": {},
     "output_type": "execute_result"
    }
   ],
   "source": [
    "rfc.score(X_train, y_train)"
   ]
  },
  {
   "cell_type": "code",
   "execution_count": 16,
   "metadata": {},
   "outputs": [
    {
     "data": {
      "text/plain": [
       "0.942"
      ]
     },
     "execution_count": 16,
     "metadata": {},
     "output_type": "execute_result"
    }
   ],
   "source": [
    "rfc.score(X_test, y_test)"
   ]
  },
  {
   "cell_type": "code",
   "execution_count": 17,
   "metadata": {},
   "outputs": [
    {
     "data": {
      "text/plain": [
       "array([[918,  60],\n",
       "       [ 56, 966]])"
      ]
     },
     "execution_count": 17,
     "metadata": {},
     "output_type": "execute_result"
    }
   ],
   "source": [
    "y_pred = rfc.predict(X_test)\n",
    "cm = confusion_matrix(y_test, y_pred)\n",
    "cm"
   ]
  },
  {
   "cell_type": "code",
   "execution_count": 18,
   "metadata": {},
   "outputs": [
    {
     "data": {
      "text/plain": [
       "LinearSVC(C=1.0, class_weight=None, dual=True, fit_intercept=True,\n",
       "          intercept_scaling=1, loss='squared_hinge', max_iter=1000,\n",
       "          multi_class='ovr', penalty='l2', random_state=None, tol=0.0001,\n",
       "          verbose=0)"
      ]
     },
     "execution_count": 18,
     "metadata": {},
     "output_type": "execute_result"
    }
   ],
   "source": [
    "svc.fit(X_train, y_train)"
   ]
  },
  {
   "cell_type": "code",
   "execution_count": 19,
   "metadata": {},
   "outputs": [
    {
     "data": {
      "text/plain": [
       "0.893375"
      ]
     },
     "execution_count": 19,
     "metadata": {},
     "output_type": "execute_result"
    }
   ],
   "source": [
    "svc.score(X_train, y_train)"
   ]
  },
  {
   "cell_type": "code",
   "execution_count": 20,
   "metadata": {},
   "outputs": [
    {
     "data": {
      "text/plain": [
       "0.8985"
      ]
     },
     "execution_count": 20,
     "metadata": {},
     "output_type": "execute_result"
    }
   ],
   "source": [
    "svc.score(X_test, y_test)"
   ]
  },
  {
   "cell_type": "code",
   "execution_count": 21,
   "metadata": {},
   "outputs": [
    {
     "data": {
      "text/plain": [
       "array([[861, 117],\n",
       "       [ 86, 936]])"
      ]
     },
     "execution_count": 21,
     "metadata": {},
     "output_type": "execute_result"
    }
   ],
   "source": [
    "y_pred = svc.predict(X_test)\n",
    "cm = confusion_matrix(y_test, y_pred)\n",
    "cm"
   ]
  },
  {
   "cell_type": "code",
   "execution_count": null,
   "metadata": {},
   "outputs": [],
   "source": []
  },
  {
   "cell_type": "code",
   "execution_count": 23,
   "metadata": {},
   "outputs": [
    {
     "data": {
      "text/plain": [
       "'              precision    recall  f1-score   support\\n\\n           0       0.91      0.88      0.89       978\\n           1       0.89      0.92      0.90      1022\\n\\n    accuracy                           0.90      2000\\n   macro avg       0.90      0.90      0.90      2000\\nweighted avg       0.90      0.90      0.90      2000\\n'"
      ]
     },
     "execution_count": 23,
     "metadata": {},
     "output_type": "execute_result"
    }
   ],
   "source": [
    "from sklearn.metrics import classification_report\n",
    "classification_report(y_test, y_pred)"
   ]
  },
  {
   "cell_type": "code",
   "execution_count": 27,
   "metadata": {},
   "outputs": [
    {
     "data": {
      "text/plain": [
       "861"
      ]
     },
     "execution_count": 27,
     "metadata": {},
     "output_type": "execute_result"
    }
   ],
   "source": [
    "#Write a function to compute these metrics/reports\n",
    "\n",
    "TP = cm[0][0]\n",
    "FN = cm[0][1]\n",
    "FP = cm[1][0]\n",
    "TN = cm[1][1]\n",
    "\n",
    "TP"
   ]
  },
  {
   "cell_type": "code",
   "execution_count": 31,
   "metadata": {},
   "outputs": [
    {
     "data": {
      "text/plain": [
       "0.8803680981595092"
      ]
     },
     "execution_count": 31,
     "metadata": {},
     "output_type": "execute_result"
    }
   ],
   "source": [
    "Recall = TP/(TP+FN)\n",
    "Recall"
   ]
  },
  {
   "cell_type": "code",
   "execution_count": 32,
   "metadata": {},
   "outputs": [
    {
     "data": {
      "text/plain": [
       "0.9158512720156555"
      ]
     },
     "execution_count": 32,
     "metadata": {},
     "output_type": "execute_result"
    }
   ],
   "source": [
    "Specificity = TN/(TN + FP)\n",
    "Specificity"
   ]
  },
  {
   "cell_type": "code",
   "execution_count": 33,
   "metadata": {},
   "outputs": [
    {
     "data": {
      "text/plain": [
       "0.9091869060190074"
      ]
     },
     "execution_count": 33,
     "metadata": {},
     "output_type": "execute_result"
    }
   ],
   "source": [
    "Precision = TP/(TP + FP)\n",
    "Precision"
   ]
  },
  {
   "cell_type": "code",
   "execution_count": 34,
   "metadata": {},
   "outputs": [
    {
     "data": {
      "text/plain": [
       "0.8945454545454546"
      ]
     },
     "execution_count": 34,
     "metadata": {},
     "output_type": "execute_result"
    }
   ],
   "source": [
    "F1_score = 2 * ((Recall * Precision) / (Recall + Precision))\n",
    "F1_score"
   ]
  },
  {
   "cell_type": "code",
   "execution_count": null,
   "metadata": {},
   "outputs": [],
   "source": [
    "##See this to plot the scatter diagram well--->>> www.python-course.eu/neural_networks_with_python_numpy.php\n",
    "plt.scatter(data[:, 0], data[:, 1], marker='o', c=target,\n",
    "            s=25, edgecolor='k')\n",
    "plt.show()\n",
    "\n",
    "plt.scatter(data[:, 0], data[:, 1], marker='o', c=predict_array,\n",
    "            s=25, edgecolor='green')\n",
    "plt.show()"
   ]
  },
  {
   "cell_type": "code",
   "execution_count": null,
   "metadata": {},
   "outputs": [],
   "source": [
    "target_hist = [num_zeros, num_ones]\n",
    "predict_hist = [num_zeros_classify, num_ones_classify]\n",
    "category = np.arange(2)\n",
    "#category = [0, 1]\n",
    "tick_label = ['Zeros','Ones']\n",
    " \n",
    "#X = np.arange(4)\n",
    "plt.bar(category, target_hist, color = 'b', width = 0.4, label = \"Target\")\n",
    "plt.bar(category + 0.2, predict_hist, color = 'g', width = 0.4, label = \"Predict\")\n",
    "plt.legend()\n",
    "\n",
    "# naming the x-axis \n",
    "plt.xlabel('Classes') \n",
    "# naming the y-axis \n",
    "plt.ylabel('Counts') \n",
    "# plot title \n",
    "plt.title('Bar Charts of the Target and Predict Data')\n",
    "\n",
    "\n",
    "plt.show()\n"
   ]
  },
  {
   "cell_type": "code",
   "execution_count": null,
   "metadata": {},
   "outputs": [],
   "source": [
    "#Compare with traditional separators\n",
    "\n",
    "#KNN\n",
    "\n",
    "#Random Forest"
   ]
  },
  {
   "cell_type": "code",
   "execution_count": 1,
   "metadata": {},
   "outputs": [
    {
     "data": {
      "text/plain": [
       "[<matplotlib.lines.Line2D at 0x7f1fad1d3240>]"
      ]
     },
     "execution_count": 1,
     "metadata": {},
     "output_type": "execute_result"
    },
    {
     "data": {
      "image/png": "[encoded data removed]",
      "text/plain": [
       "<Figure size 432x288 with 1 Axes>"
      ]
     },
     "metadata": {
      "needs_background": "light"
     },
     "output_type": "display_data"
    }
   ],
   "source": [
    "#Plot the separator\n",
    "\n",
    "import numpy as np\n",
    "from matplotlib import pyplot as plt\n",
    "#2D data with bias\n",
    "X = np.array([\n",
    "    [-2, 4,-1],\n",
    "[4, 1, -1],\n",
    "[1,6,-1],\n",
    "[2,4,-1],\n",
    "[6,2,-1],\n",
    "])\n",
    "\n",
    "y = np.array([-1,-1,1,1,1])\n",
    "errors = []\n",
    "# Visualizing the data\n",
    "for d, sample in enumerate(X):\n",
    "    #Plot negative sample\n",
    "    if d<2:\n",
    "        plt.scatter(sample[0], sample[1], s = 120, marker='_', linewidths=2)\n",
    "        \n",
    "    #Plot positive sample:\n",
    "    else:\n",
    "        plt.scatter(sample[0], sample[1], s =120, marker = '+', linewidths = 2)\n",
    "        \n",
    "        \n",
    "plt.plot([-2,6], [6,0.5])"
   ]
  },
  {
   "cell_type": "code",
   "execution_count": 4,
   "metadata": {},
   "outputs": [
    {
     "data": {
      "image/png": "[encoded data removed]",
      "text/plain": [
       "<Figure size 432x288 with 1 Axes>"
      ]
     },
     "metadata": {},
     "output_type": "display_data"
    }
   ],
   "source": [
    "X, y = make_classification(n_samples=500, n_features=2, n_redundant=0, n_informative=1,\n",
    "                             n_clusters_per_class=1, random_state=14)\n",
    "\n",
    "y = y[:,np.newaxis]\n",
    "\n",
    "sns.set_style('white')\n",
    "sns.scatterplot(X[:,0],X[:,1],hue=y.reshape(-1));"
   ]
  },
  {
   "cell_type": "code",
   "execution_count": 21,
   "metadata": {},
   "outputs": [],
   "source": [
    "def function1(arrays):\n",
    "    count_one = 0\n",
    "    count_zero = 0\n",
    "    find_class = []\n",
    "\n",
    "    for points in arrays:\n",
    "        if points >= 0:\n",
    "            it = 1\n",
    "            find_class.append(it)\n",
    "            count_one += 1\n",
    "        else:\n",
    "            it = 0\n",
    "            find_class.append(it)\n",
    "            count_zero +=1\n",
    "    \n",
    "    return find_class\n",
    "\n",
    "predicted_class = function1(predict_array)\n",
    "\n"
   ]
  },
  {
   "cell_type": "code",
   "execution_count": 3,
   "metadata": {},
   "outputs": [
    {
     "data": {
      "image/png": "[encoded data removed]",
      "text/plain": [
       "<Figure size 432x288 with 1 Axes>"
      ]
     },
     "metadata": {
      "needs_background": "light"
     },
     "output_type": "display_data"
    }
   ],
   "source": [
    "import matplotlib.pyplot as plt\n",
    "from sklearn import datasets\n",
    "\n",
    "X, y = datasets.make_blobs(n_samples=1000, centers=2, n_features=2, center_box=(0, 10))\n",
    "plt.plot(X[:, 0][y == 0], X[:, 1][y == 0], 'g^')\n",
    "plt.plot(X[:, 0][y == 1], X[:, 1][y == 1], 'bs')\n",
    "plt.show()\n",
    "\n",
    "X_train, X_test, y_train, y_test = train_test_split(X, y, test_size = 0.2)"
   ]
  }
 ],
 "metadata": {
  "kernelspec": {
   "display_name": "Python 3",
   "language": "python",
   "name": "python3"
  },
  "language_info": {
   "codemirror_mode": {
    "name": "ipython",
    "version": 3
   },
   "file_extension": ".py",
   "mimetype": "text/x-python",
   "name": "python",
   "nbconvert_exporter": "python",
   "pygments_lexer": "ipython3",
   "version": "3.7.3"
  }
 },
 "nbformat": 4,
 "nbformat_minor": 2
}
