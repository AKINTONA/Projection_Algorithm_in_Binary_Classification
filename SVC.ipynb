{
 "cells": [
  {
   "cell_type": "code",
   "execution_count": 13,
   "metadata": {},
   "outputs": [],
   "source": [
    "import numpy as np\n",
    "import matplotlib.pyplot as plt\n",
    "import sklearn.datasets\n",
    "import time\n",
    "from sklearn import datasets\n",
    "from sklearn.datasets import (make_classification, make_blobs, make_gaussian_quantiles)\n",
    "from sklearn.metrics import accuracy_score\n",
    "from sklearn.model_selection import train_test_split\n",
    "from sklearn.svm import LinearSVC"
   ]
  },
  {
   "cell_type": "code",
   "execution_count": 102,
   "metadata": {},
   "outputs": [],
   "source": [
    "np.random.seed(66)#Set seed\n",
    "\n",
    "#Generating random data sets\n",
    "X, y = make_classification(n_samples=5000, n_features=200, n_informative=2, n_redundant=0, \n",
    "                                            n_repeated=0, n_classes=2, n_clusters_per_class=2, weights=None, \n",
    "                                            flip_y=0.01, class_sep=1.0, hypercube=True, shift=0.0, scale=1.0, \n",
    "                                            shuffle=True, random_state=None)\n",
    "\n",
    "X_train, X_test, y_train, y_test = train_test_split(X, y, test_size = 0.2)"
   ]
  },
  {
   "cell_type": "code",
   "execution_count": 103,
   "metadata": {},
   "outputs": [],
   "source": [
    "#Assigning the training data to variables\n",
    "\n",
    "data = X_train\n",
    "target = y_train\n",
    "rows, columns = data.shape"
   ]
  },
  {
   "cell_type": "code",
   "execution_count": 104,
   "metadata": {},
   "outputs": [
    {
     "name": "stderr",
     "output_type": "stream",
     "text": [
      "/opt/conda/lib/python3.7/site-packages/sklearn/svm/base.py:929: ConvergenceWarning: Liblinear failed to converge, increase the number of iterations.\n",
      "  \"the number of iterations.\", ConvergenceWarning)\n"
     ]
    }
   ],
   "source": [
    "svc = LinearSVC(C = 1.0, tol = 0.0000000001)\n",
    "svc.fit(X_train, y_train)\n",
    "duration = []\n",
    "\n",
    "for T in range(10):\n",
    "    \n",
    "    start_time = time.time()\n",
    "    train_accuracy = svc.score(X_train, y_train)\n",
    "    p = (time.time() - start_time)\n",
    "    test_accuracy = svc.score(X_test, y_test)\n",
    "    duration.append(p)"
   ]
  },
  {
   "cell_type": "code",
   "execution_count": 105,
   "metadata": {},
   "outputs": [
    {
     "name": "stdout",
     "output_type": "stream",
     "text": [
      "The Percentage SVM Training Accuracy is 0.9335\n",
      "The Percentage SVM Test Accuracy is 0.921\n",
      "minimum_duration: 0.0011\n",
      "maximum_duration: 0.0078\n",
      "average_duration: 0.0027\n"
     ]
    }
   ],
   "source": [
    "average_duration = np.mean(duration)\n",
    "maximum_duration = np.max(duration)\n",
    "minimum_duration = np.min(duration)\n",
    "\n",
    "print(\"The Percentage SVM Training Accuracy is {}\".format(train_accuracy))\n",
    "print(\"The Percentage SVM Test Accuracy is {}\".format(test_accuracy))\n",
    "print('minimum_duration: {}'.format(round(minimum_duration, 4)))\n",
    "print('maximum_duration: {}'.format(round(maximum_duration, 4)))\n",
    "print('average_duration: {}'.format(round(average_duration, 4)))"
   ]
  },
  {
   "cell_type": "code",
   "execution_count": null,
   "metadata": {},
   "outputs": [],
   "source": []
  },
  {
   "cell_type": "code",
   "execution_count": null,
   "metadata": {},
   "outputs": [],
   "source": []
  }
 ],
 "metadata": {
  "kernelspec": {
   "display_name": "Python 3",
   "language": "python",
   "name": "python3"
  },
  "language_info": {
   "codemirror_mode": {
    "name": "ipython",
    "version": 3
   },
   "file_extension": ".py",
   "mimetype": "text/x-python",
   "name": "python",
   "nbconvert_exporter": "python",
   "pygments_lexer": "ipython3",
   "version": "3.7.3"
  }
 },
 "nbformat": 4,
 "nbformat_minor": 4
}
